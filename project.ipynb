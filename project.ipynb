{
 "cells": [
  {
   "cell_type": "code",
   "execution_count": 20,
   "metadata": {},
   "outputs": [],
   "source": [
    "import pandas as pd\n",
    "import numpy as np\n",
    "\n",
    "# EXCEL - DF CSV CONVERSION\n",
    "# trainData = pd.read_excel('dataset/cases_2021_train_processed_2.xlsx', sheet_name=None)\n",
    "trainfile = pd.read_excel ('dataset/cases_2021_train_processed_2.xlsx') \n",
    "testfile = pd.read_excel ('dataset/cases_2021_test_processed_unlabelled_2.xlsx') \n",
    "# Write the dataframe object into csv file \n",
    "trainfile.to_csv ('dataset/Train.csv',  \n",
    "                  index = None, \n",
    "                  header=True)\n",
    "testfile.to_csv ('dataset/Test.csv',  \n",
    "                  index = None, \n",
    "                  header=True) "
   ]
  },
  {
   "cell_type": "code",
   "execution_count": 22,
   "metadata": {},
   "outputs": [
    {
     "name": "stdout",
     "output_type": "stream",
     "text": [
      "   age  sex  province  country  latitude  longitude date_confirmation  \\\n",
      "0   59    1         0        0  14.59580  120.97720        2020-03-31   \n",
      "1   79    0         1        1  11.13927   79.08428        2020-05-24   \n",
      "2   44    1         1        1  13.08362   80.28252        2020-05-19   \n",
      "3   36    0         1        1  13.12462   79.91815        2020-04-30   \n",
      "4   52    0         2        1  25.31258   86.48888        2020-04-24   \n",
      "5   28    1         1        1  12.68224   79.98008        2020-05-31   \n",
      "6   17    0         2        1  25.73271   86.98845        2020-05-23   \n",
      "7   18    0         3        1  13.00287   76.10245        2020-05-24   \n",
      "8   68    0         0        0  14.63000  121.03000        2020-04-11   \n",
      "9   21    0         1        1  13.08362   80.28252        2020-05-15   \n",
      "\n",
      "   chronic_disease_binary  Confirmed  Deaths  Recovered  Active  \\\n",
      "0                       0     747288   13297     603746  130245   \n",
      "1                       0     886673   12719     858075   15879   \n",
      "2                       0     886673   12719     858075   15879   \n",
      "3                       0     886673   12719     858075   15879   \n",
      "4                       0     265527    1576     262371    1580   \n",
      "5                       0     886673   12719     858075   15879   \n",
      "6                       0     265527    1576     262371    1580   \n",
      "7                       0     997004   12567     956170   28267   \n",
      "8                       0     747288   13297     603746  130245   \n",
      "9                       0     886673   12719     858075   15879   \n",
      "\n",
      "   Incident_Rate  Case_Fatality_Ratio  \n",
      "0     681.949809             1.779368  \n",
      "1    1139.078325             1.434463  \n",
      "2    1139.078325             1.434463  \n",
      "3    1139.078325             1.434463  \n",
      "4     212.762145             0.593537  \n",
      "5    1139.078325             1.434463  \n",
      "6     212.762145             0.593537  \n",
      "7    1475.672533             1.260476  \n",
      "8     681.949809             1.779368  \n",
      "9    1139.078325             1.434463  \n"
     ]
    }
   ],
   "source": [
    "import pandas as pd\n",
    "import numpy as np\n",
    "\n",
    "# FEATURE MAPPING\n",
    "# read csv file and convert into a dataframe object \n",
    "trainData = pd.DataFrame(pd.read_csv('dataset/Train.csv')) \n",
    "testData = pd.DataFrame(pd.read_csv('dataset/Test.csv')) \n",
    "# map function\n",
    "def mapFeatures(df):\n",
    "    # Map 'sex' to binary values\n",
    "    sex_mapping = {\"male\": 0, \"female\": 1}\n",
    "    df[\"sex\"] = df[\"sex\"].map(sex_mapping)\n",
    "\n",
    "    # Map 'province' to numbers from 0 \n",
    "    province_mapping = {province: idx for idx, province in enumerate(df['province'].unique())}\n",
    "    df['province'] = df['province'].map(province_mapping)\n",
    "    \n",
    "    # Map chronic disease\n",
    "    cdb_mapping = {False: 0, True: 1}\n",
    "    df['chronic_disease_binary'] = df['chronic_disease_binary'].map(cdb_mapping)\n",
    "    \n",
    "    # map countries\n",
    "    country_mapping = {country: idx for idx, country in enumerate(df['country'].unique())}\n",
    "    df['country'] = df['country'].map(country_mapping)\n",
    "    \n",
    "mapFeatures(trainData)\n",
    "mapFeatures(testData)\n",
    "# Map outcome group for train data\n",
    "og_mapping = {\"deceased\": 0,\"hospitalized\": 1,\"nonhospitalized\":2}\n",
    "trainData['outcome_group'] = trainData['outcome_group'].map(og_mapping)\n",
    "#print(trainData.head(10))\n",
    "print(testData.head(10))"
   ]
  }
 ],
 "metadata": {
  "kernelspec": {
   "display_name": "base",
   "language": "python",
   "name": "python3"
  },
  "language_info": {
   "codemirror_mode": {
    "name": "ipython",
    "version": 3
   },
   "file_extension": ".py",
   "mimetype": "text/x-python",
   "name": "python",
   "nbconvert_exporter": "python",
   "pygments_lexer": "ipython3",
   "version": "3.11.5"
  }
 },
 "nbformat": 4,
 "nbformat_minor": 2
}
