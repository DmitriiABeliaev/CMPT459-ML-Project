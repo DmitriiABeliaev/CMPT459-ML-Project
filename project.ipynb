{
 "cells": [
  {
   "cell_type": "code",
   "execution_count": null,
   "metadata": {},
   "outputs": [],
   "source": [
    "import pandas as pd\n",
    "import numpy as np\n",
    "\n",
    "# Data Setup\n",
    "trainData = pd.read_csv('dataset/cases_2021_train.csv')\n",
    "testData = pd.read_csv('dataset/cases_2021_test.csv')\n",
    "# map function\n",
    "def mapFeatures(df):\n",
    "    # Map 'sex' to binary values\n",
    "    sex_mapping = {\"male\": 0, \"female\": 1}\n",
    "    df['sex'] = df['sex'].map(sex_mapping)\n",
    "\n",
    "    # Map 'province' to numbers from 0 \n",
    "    province_mapping = {province: idx for idx, province in enumerate(df['province'].unique())}\n",
    "    df['province'] = df['province'].map(province_mapping)\n",
    "\n",
    "    # Map outcome group \n",
    "    outcome_mapping = {\"Deceased\": 0, \"Hospitalized\": 1, \"discharged\":2,\"Recovered\":2 }\n",
    "    df['outcome_group'] = df['outcome_group'].map(outcome_mapping)\n",
    "    \n",
    "    # Map chronic disease\n",
    "    cdb_mapping = {False: 0, True: 1}\n",
    "    df['chronic_disease_binary'] = df['chronic_disease_binary'].map(cdb_mapping)\n",
    "    print(df.head(10))\n",
    "mapFeatures(trainData)"
   ]
  }
 ],
 "metadata": {
  "kernelspec": {
   "display_name": "base",
   "language": "python",
   "name": "python3"
  },
  "language_info": {
   "codemirror_mode": {
    "name": "ipython",
    "version": 3
   },
   "file_extension": ".py",
   "mimetype": "text/x-python",
   "name": "python",
   "nbconvert_exporter": "python",
   "pygments_lexer": "ipython3",
   "version": "3.11.5"
  }
 },
 "nbformat": 4,
 "nbformat_minor": 2
}
