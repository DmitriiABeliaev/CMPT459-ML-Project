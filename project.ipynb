{
 "cells": [
  {
   "cell_type": "code",
   "execution_count": 13,
   "metadata": {},
   "outputs": [
    {
     "name": "stdout",
     "output_type": "stream",
     "text": [
      "   age  sex  province country  latitude  longitude date_confirmation  \\\n",
      "0  NaN  NaN         0   India  19.20000   72.96667        23.05.2020   \n",
      "1  NaN  NaN         0   India  18.94017   72.83483        18.05.2020   \n",
      "2  NaN  NaN         0   India  19.20000   72.96667        28.05.2020   \n",
      "3  NaN  NaN         1   India  22.80862   88.79242        09.05.2020   \n",
      "4  NaN  NaN         0   India  18.94017   72.83483        17.05.2020   \n",
      "5   40  1.0         2   India  13.08362   80.28252        17.05.2020   \n",
      "6  NaN  NaN         0   India  18.50422   73.85302        18.05.2020   \n",
      "7  NaN  NaN         0   India  18.94017   72.83483        10.05.2020   \n",
      "8  NaN  NaN         3   India  27.18000   78.02000        17.05.2020   \n",
      "9  NaN  NaN         4   India  22.71622   75.86512        29.04.2020   \n",
      "\n",
      "  additional_information                                             source  \\\n",
      "0                    NaN                                                NaN   \n",
      "1                    NaN                       https://t.me/indiacovid/5075   \n",
      "2                    NaN  https://phdmah.maps.arcgis.com/apps/opsdashboa...   \n",
      "3                    NaN  https://www.wbhealth.gov.in/uploaded_files/cor...   \n",
      "4                    NaN                                                NaN   \n",
      "5                    NaN  https://stopcorona.tn.gov.in/wp-content/upload...   \n",
      "6                    NaN                       https://t.me/indiacovid/5075   \n",
      "7                    NaN                       https://t.me/indiacovid/4483   \n",
      "8                    NaN                       https://t.me/indiacovid/4984   \n",
      "9                    NaN  https://twitter.com/ANI/status/125540008834987...   \n",
      "\n",
      "   chronic_disease_binary  outcome  outcome_group  \n",
      "0                       0      1.0            NaN  \n",
      "1                       0      2.0            NaN  \n",
      "2                       0      1.0            NaN  \n",
      "3                       0      1.0            NaN  \n",
      "4                       0      1.0            NaN  \n",
      "5                       0      1.0            NaN  \n",
      "6                       0      1.0            NaN  \n",
      "7                       0      1.0            NaN  \n",
      "8                       0      2.0            NaN  \n",
      "9                       0      1.0            NaN  \n"
     ]
    }
   ],
   "source": [
    "import pandas as pd\n",
    "import numpy as np\n",
    "\n",
    "# Data Setup\n",
    "trainData = pd.read_csv('dataset/cases_2021_train.csv')\n",
    "testData = pd.read_csv('dataset/cases_2021_test.csv')\n",
    "# map function\n",
    "def mapFeatures(df):\n",
    "    # Map 'sex' to binary values\n",
    "    sex_mapping = {\"male\": 0, \"female\": 1}\n",
    "    df['sex'] = df['sex'].map(sex_mapping)\n",
    "\n",
    "    # Map 'province' to numbers from 0 \n",
    "    province_mapping = {province: idx for idx, province in enumerate(df['province'].unique())}\n",
    "    df['province'] = df['province'].map(province_mapping)\n",
    "\n",
    "    # Map outcome \n",
    "    outcome_mapping = {\"Deceased\": 0, \"Hospitalized\": 1, \"discharged\":2,\"Recovered\":2 }\n",
    "    df['outcome'] = df['outcome'].map(outcome_mapping)\n",
    "    \n",
    "    # Map chronic disease\n",
    "    cdb_mapping = {False: 0, True: 1}\n",
    "    df['chronic_disease_binary'] = df['chronic_disease_binary'].map(cdb_mapping)\n",
    "    # print(df.head(10))\n",
    "mapFeatures(trainData)\n",
    "mapFeatures(testData)"
   ]
  }
 ],
 "metadata": {
  "kernelspec": {
   "display_name": "base",
   "language": "python",
   "name": "python3"
  },
  "language_info": {
   "codemirror_mode": {
    "name": "ipython",
    "version": 3
   },
   "file_extension": ".py",
   "mimetype": "text/x-python",
   "name": "python",
   "nbconvert_exporter": "python",
   "pygments_lexer": "ipython3",
   "version": "3.11.5"
  }
 },
 "nbformat": 4,
 "nbformat_minor": 2
}
